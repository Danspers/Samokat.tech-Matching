{
 "cells": [
  {
   "cell_type": "markdown",
   "metadata": {},
   "source": [
    "# Matching"
   ]
  },
  {
   "cell_type": "markdown",
   "metadata": {},
   "source": [
    "## Описание проекта"
   ]
  },
  {
   "cell_type": "markdown",
   "metadata": {},
   "source": [
    "**Matching** - это задача поиска и сопоставления двух объектов из разных наборов данных. Такая потребность возникла у маркетплейса, который имеет большой перечен товаров для продажи. На склад стали поступать новые партии товаров, которые могут имеет небольшие отличия. Технически, это выглядит как совершенно новые товары. Фактически это те же товары, которые уже продаются на маркетплейсе. Задача сопоставить и связать новые товары со старыми, пользуясь совпадающими характеристиками.\n",
    "\n",
    "**Что надо сделать?**\n",
    "- предстоит реализовать финальную часть пайплайна матчинга. В ней необходимо принять решение для каждой пары (товар предлагаемый продавцом — товар на площадке), является ли она матчем или нет (бинарная классификация).\n",
    "- Для этого у каждой пары есть набор признаков и наборы векторов (картиночные и текстовые), которые описывают товары из этой пары.\n",
    "- В качестве метрики качества решения используется _F-score_.\n",
    "\n",
    "**Данные:** [источник](https://www.kaggle.com/competitions/binary-classification-offers-on-the-marketplace/data)\n",
    "\n",
    "- *train.csv -* обучающий датасет. Каждая строчка - один товар, для которого известен уникальный **id** (`0-query, 1-query, …`) , вектор признаков И id товара из *base.csv*, который максимально похож на него (по мнению экспертов).\n",
    "- *test.csv* - датасет с товарами (уникальный **id** и вектор признаков), для которых надо найти наиболее близкие товары из *base.csv*\n",
    "- *sample_submission.csv* - пример файла предсказаний.\n",
    "\n",
    "Embeddings:\n",
    "\n",
    "- `goods_image_vectors` и `offer_image_vectors` - содержат файлы с векторами изображений (embed_deperson.npy) и их идентификаторами (items_deperson.npy) для товаров ассортимента и предложений соответственно. Объекты в файлах соотносятся 1 к 1\n",
    "- `goods_title_vectors` и `offer_title_vectors` - содержат файлы с векторами названий+атрибутов (embed_deperson.npy) и их идентификаторами (items_deperson.npy) для товаров ассортимента и предложений соответсвенно. Объекты в файлах соотносятся 1 к 1\n",
    "\n",
    "**План работы:**\n",
    "- Загрузить данные\n",
    "- Понять задачу\n",
    "- Подготовить данные\n",
    "- Обучить модель (поиск ближайших соседей + ранжирование)\n",
    "- Измерить качество\n",
    "- git commit\n",
    "- Сделать лучше!\n",
    "\n",
    "Примечание: ячейки кода, исполнение которы занимает продолжительное время, имеют функцию `%%time` и время исполнения, указанное в конце выходных данных. \n",
    "\n",
    "___"
   ]
  },
  {
   "cell_type": "markdown",
   "metadata": {},
   "source": [
    "## Подготовка"
   ]
  },
  {
   "cell_type": "code",
   "execution_count": 1,
   "metadata": {},
   "outputs": [],
   "source": [
    "# импорт библиотек\n",
    "#import phik\n",
    "#import faiss\n",
    "import numpy as np\n",
    "import pandas as pd\n",
    "import seaborn as sns\n",
    "import matplotlib.pyplot as plt\n",
    "\n",
    "# импорт спец. модулей\n",
    "from tqdm import tqdm\n",
    "from sklearn.preprocessing import StandardScaler\n",
    "from sklearn.linear_model import LogisticRegression\n",
    "from sklearn.metrics import f1_score, accuracy_score, precision_score, roc_curve, ConfusionMatrixDisplay\n",
    "\n",
    "# константы\n",
    "RANDOM_STATE = 42  # фиксация случайности\n",
    "DATA_DIR = 'data/'"
   ]
  },
  {
   "cell_type": "code",
   "execution_count": 2,
   "metadata": {},
   "outputs": [
    {
     "name": "stdout",
     "output_type": "stream",
     "text": [
      "CPU times: total: 2.39 s\n",
      "Wall time: 2.39 s\n"
     ]
    }
   ],
   "source": [
    "# чтение датасетов\n",
    "train_df          = pd.read_csv(DATA_DIR + 'train.csv')\n",
    "test_df           = pd.read_csv(DATA_DIR + 'test.csv')\n",
    "sample_submission = pd.read_csv(DATA_DIR + 'sample_submission.csv')\n",
    "\n",
    "loaded_array = np.load(DATA_DIR + 'sample_submission.csv')"
   ]
  },
  {
   "cell_type": "markdown",
   "metadata": {},
   "source": [
    "___\n",
    "\n",
    "## Анализ данных"
   ]
  },
  {
   "cell_type": "markdown",
   "metadata": {},
   "source": [
    "Описание колонок:\n",
    "\n",
    "- `offer_depersanalised` и `goods_depersanalised` - идентификаторы предложения и товара соответственно\n",
    "- `sum_length` - суммарная длина пары названий и атрибутов в символах\n",
    "- `dist` - расстояние между названиями предложения и товара *(заявлен, но отсутствует в исходных данных)*\n",
    "- `attrs+title_score` - вероятность матча от рескоринговой модели\n",
    "- `offer_price` и `item_price` - цена предложения и товара соответственно\n",
    "- `goods_category_id` - категория товара\n",
    "- `id` - идентификатор пары offer_depersanalised + $ + goods_depersanalised\n",
    "- `target` (только в train.csv) - метка класса (0 - не матч, 1 - матч)"
   ]
  },
  {
   "cell_type": "markdown",
   "metadata": {},
   "source": [
    "### Train"
   ]
  },
  {
   "cell_type": "markdown",
   "metadata": {},
   "source": [
    "`Train` - набор из товаров новых поставок, для которых известны соответствующие товары из \"старого\" датасета base. ID этого товара содержится в отдельном датасете target."
   ]
  },
  {
   "cell_type": "code",
   "execution_count": 3,
   "metadata": {},
   "outputs": [
    {
     "data": {
      "text/html": [
       "<div>\n",
       "<style scoped>\n",
       "    .dataframe tbody tr th:only-of-type {\n",
       "        vertical-align: middle;\n",
       "    }\n",
       "\n",
       "    .dataframe tbody tr th {\n",
       "        vertical-align: top;\n",
       "    }\n",
       "\n",
       "    .dataframe thead th {\n",
       "        text-align: right;\n",
       "    }\n",
       "</style>\n",
       "<table border=\"1\" class=\"dataframe\">\n",
       "  <thead>\n",
       "    <tr style=\"text-align: right;\">\n",
       "      <th></th>\n",
       "      <th>offer_depersanalised</th>\n",
       "      <th>goods_depersanalised</th>\n",
       "      <th>sum_length</th>\n",
       "      <th>attrs+title_score</th>\n",
       "      <th>offer_price</th>\n",
       "      <th>goods_price</th>\n",
       "      <th>goods_category_id</th>\n",
       "      <th>target</th>\n",
       "      <th>id</th>\n",
       "    </tr>\n",
       "  </thead>\n",
       "  <tbody>\n",
       "    <tr>\n",
       "      <th>0</th>\n",
       "      <td>295140</td>\n",
       "      <td>1396793</td>\n",
       "      <td>37</td>\n",
       "      <td>0.027267</td>\n",
       "      <td>1070</td>\n",
       "      <td>NaN</td>\n",
       "      <td>14.0</td>\n",
       "      <td>0</td>\n",
       "      <td>295140$1396793</td>\n",
       "    </tr>\n",
       "    <tr>\n",
       "      <th>1</th>\n",
       "      <td>65291</td>\n",
       "      <td>1396586</td>\n",
       "      <td>38</td>\n",
       "      <td>0.050415</td>\n",
       "      <td>698</td>\n",
       "      <td>NaN</td>\n",
       "      <td>14.0</td>\n",
       "      <td>0</td>\n",
       "      <td>65291$1396586</td>\n",
       "    </tr>\n",
       "    <tr>\n",
       "      <th>2</th>\n",
       "      <td>39232</td>\n",
       "      <td>1396244</td>\n",
       "      <td>38</td>\n",
       "      <td>0.087280</td>\n",
       "      <td>837</td>\n",
       "      <td>NaN</td>\n",
       "      <td>14.0</td>\n",
       "      <td>0</td>\n",
       "      <td>39232$1396244</td>\n",
       "    </tr>\n",
       "    <tr>\n",
       "      <th>3</th>\n",
       "      <td>39232</td>\n",
       "      <td>1396513</td>\n",
       "      <td>38</td>\n",
       "      <td>0.087280</td>\n",
       "      <td>837</td>\n",
       "      <td>NaN</td>\n",
       "      <td>14.0</td>\n",
       "      <td>0</td>\n",
       "      <td>39232$1396513</td>\n",
       "    </tr>\n",
       "    <tr>\n",
       "      <th>4</th>\n",
       "      <td>65052</td>\n",
       "      <td>1396237</td>\n",
       "      <td>38</td>\n",
       "      <td>0.079773</td>\n",
       "      <td>1085</td>\n",
       "      <td>NaN</td>\n",
       "      <td>14.0</td>\n",
       "      <td>0</td>\n",
       "      <td>65052$1396237</td>\n",
       "    </tr>\n",
       "  </tbody>\n",
       "</table>\n",
       "</div>"
      ],
      "text/plain": [
       "   offer_depersanalised  goods_depersanalised  sum_length  attrs+title_score  \\\n",
       "0                295140               1396793          37           0.027267   \n",
       "1                 65291               1396586          38           0.050415   \n",
       "2                 39232               1396244          38           0.087280   \n",
       "3                 39232               1396513          38           0.087280   \n",
       "4                 65052               1396237          38           0.079773   \n",
       "\n",
       "   offer_price  goods_price  goods_category_id  target              id  \n",
       "0         1070          NaN               14.0       0  295140$1396793  \n",
       "1          698          NaN               14.0       0   65291$1396586  \n",
       "2          837          NaN               14.0       0   39232$1396244  \n",
       "3          837          NaN               14.0       0   39232$1396513  \n",
       "4         1085          NaN               14.0       0   65052$1396237  "
      ]
     },
     "metadata": {},
     "output_type": "display_data"
    },
    {
     "name": "stdout",
     "output_type": "stream",
     "text": [
      "<class 'pandas.core.frame.DataFrame'>\n",
      "RangeIndex: 2518441 entries, 0 to 2518440\n",
      "Data columns (total 9 columns):\n",
      " #   Column                Dtype  \n",
      "---  ------                -----  \n",
      " 0   offer_depersanalised  int64  \n",
      " 1   goods_depersanalised  int64  \n",
      " 2   sum_length            int64  \n",
      " 3   attrs+title_score     float64\n",
      " 4   offer_price           int64  \n",
      " 5   goods_price           float64\n",
      " 6   goods_category_id     float64\n",
      " 7   target                int64  \n",
      " 8   id                    object \n",
      "dtypes: float64(3), int64(5), object(1)\n",
      "memory usage: 172.9+ MB\n",
      "Кол-во товаров-дубликатов: 0\n",
      "CPU times: total: 2.58 s\n",
      "Wall time: 2.63 s\n"
     ]
    }
   ],
   "source": [
    "# вывод общей информации\n",
    "display(train_df.head())\n",
    "train_df.info()\n",
    "print('Кол-во товаров-дубликатов:', train_df.duplicated().sum())\n",
    "\n",
    "# выделение цел. признака из обучающей выборки\n",
    "train_targets = train_df['target']\n",
    "train_df.drop('target', axis=1, inplace=True)"
   ]
  }
 ],
 "metadata": {
  "kernelspec": {
   "display_name": "Python 3",
   "language": "python",
   "name": "python3"
  },
  "language_info": {
   "codemirror_mode": {
    "name": "ipython",
    "version": 3
   },
   "file_extension": ".py",
   "mimetype": "text/x-python",
   "name": "python",
   "nbconvert_exporter": "python",
   "pygments_lexer": "ipython3",
   "version": "3.11.7"
  },
  "orig_nbformat": 4
 },
 "nbformat": 4,
 "nbformat_minor": 2
}
