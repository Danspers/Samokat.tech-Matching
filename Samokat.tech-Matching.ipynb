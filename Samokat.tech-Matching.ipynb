{
 "cells": [
  {
   "cell_type": "markdown",
   "metadata": {},
   "source": [
    "# Samokat.tech Matching"
   ]
  },
  {
   "cell_type": "markdown",
   "metadata": {},
   "source": [
    "## Описание проекта"
   ]
  },
  {
   "cell_type": "markdown",
   "metadata": {},
   "source": [
    "**Matching** - это задача поиска и сопоставления двух объектов из разных наборов данных. Такая потребность возникла у маркетплейса, который имеет большой перечен товаров для продажи. На склад собираются поступить новые товары, которые могут имеет небольшие различия от уже существующих. Технически, это выглядит как совершенно новые товары. Фактически это те же товары, которые уже продаются на маркетплейсе. Задача сопоставить и связать новые (предлагаемые для продажи) товары со старыми, пользуясь совпадениями в характеристиках, описаниях и изображениях.\n",
    "\n",
    "**Что надо сделать?**\n",
    "- предстоит реализовать финальную часть пайплайна матчинга. В ней необходимо принять решение для каждой пары (товар предлагаемый продавцом — товар на площадке), является ли она матчем или нет (бинарная классификация).\n",
    "- Для этого у каждой пары есть набор признаков и наборы векторов (картиночные и текстовые), которые описывают товары из этой пары.\n",
    "- В качестве метрики качества решения используется _F-score_.\n",
    "\n",
    "**Данные:** [источник](https://www.kaggle.com/competitions/binary-classification-offers-on-the-marketplace/data)\n",
    "\n",
    "- *train.csv -* обучающий датасет. Содержит пары предложений и товаров, вероятность их мэтча, а так же другие параметры (id товаров, категория и др.)\n",
    "- *test.csv* - датасет с товарами (уникальный **id** и вектор признаков), для которых надо найти наиболее близкие товары из *base.csv*\n",
    "- *sample_submission.csv* - пример файла предсказаний.\n",
    "\n",
    "Каждое предложение и товар имеют изображение и название с атрибутами, которые в свою очередь представлены в векторном виде (эмбеддингах).\n",
    "Embeddings:\n",
    "\n",
    "- `goods_image_vectors` и `offer_image_vectors` - содержат файлы с векторами изображений (embed_deperson.npy) и их идентификаторами (items_deperson.npy) для товаров ассортимента и предложений соответственно. Объекты в файлах соотносятся 1 к 1.\n",
    "- `goods_title_vectors` и `offer_title_vectors` - содержат файлы с векторами названий+атрибутов (embed_deperson.npy) и их идентификаторами (items_deperson.npy) для товаров ассортимента и предложений соответственно. Объекты в файлах соотносятся 1 к 1.\n",
    "\n",
    "**План работы:**\n",
    "- Загрузить данные\n",
    "- Понять задачу\n",
    "- Подготовить данные\n",
    "- Обучить модель\n",
    "- Измерить качество\n",
    "- git commit\n",
    "- Сделать лучше!\n",
    "\n",
    "Примечание: ячейки кода, исполнение которы занимает продолжительное время, имеют функцию `%%time` и время исполнения, указанное в конце выходных данных. \n",
    "\n",
    "___"
   ]
  },
  {
   "cell_type": "markdown",
   "metadata": {},
   "source": [
    "## Подготовка"
   ]
  },
  {
   "cell_type": "code",
   "execution_count": 1,
   "metadata": {},
   "outputs": [],
   "source": [
    "# импорт библиотек\n",
    "#import phik\n",
    "#import faiss\n",
    "import numpy as np\n",
    "import pandas as pd\n",
    "import seaborn as sns\n",
    "import matplotlib.pyplot as plt\n",
    "\n",
    "# импорт спец. модулей\n",
    "from tqdm import tqdm\n",
    "from sklearn.preprocessing import StandardScaler\n",
    "from sklearn.linear_model import LogisticRegression\n",
    "from sklearn.metrics import f1_score, accuracy_score, precision_score, roc_curve, ConfusionMatrixDisplay\n",
    "\n",
    "# константы\n",
    "RANDOM_STATE = 42\n",
    "DATA_DIR = 'data/'\n",
    "ITEMS_FILENAME = 'items_deperson.npy'\n",
    "EMBEDDINGS_FILENAME = 'embed_deperson.npy'"
   ]
  },
  {
   "cell_type": "code",
   "execution_count": 2,
   "metadata": {},
   "outputs": [],
   "source": [
    "# чтение датасетов\n",
    "train_df          = pd.read_csv(DATA_DIR + 'train.csv')\n",
    "test_df           = pd.read_csv(DATA_DIR + 'test.csv')\n",
    "sample_submission = pd.read_csv(DATA_DIR + 'sample_submission.csv')\n",
    "\n",
    "offer_image_embed = np.load(DATA_DIR + 'offer_image_vectors/embed_deperson.npy')\n",
    "offer_image_items = np.load(DATA_DIR + 'offer_image_vectors/items_deperson.npy')"
   ]
  },
  {
   "cell_type": "markdown",
   "metadata": {},
   "source": [
    "При первичном знакомстве с данными обнаружил опечатку в названиях пары столбцов. Дабы не множить её, я внесу исправление в самом начале. \n",
    "\n",
    "`offer_depersAnalised` -> `offer_depersOnalised`\n",
    "\n",
    "`goods_depersAnalised` -> `goods_depersOnalised`"
   ]
  },
  {
   "cell_type": "code",
   "execution_count": 3,
   "metadata": {},
   "outputs": [
    {
     "name": "stdout",
     "output_type": "stream",
     "text": [
      "Обновлённые названия: ['offer_depersonalised', 'goods_depersonalised']\n",
      "Обновлённые названия: ['offer_depersonalised', 'goods_depersonalised']\n"
     ]
    }
   ],
   "source": [
    "# коррекция опечатки\n",
    "for df in (train_df, test_df):\n",
    "    df.rename(columns={'offer_depersanalised' : 'offer_depersonalised',\n",
    "                       'goods_depersanalised' : 'goods_depersonalised'}, inplace=True)\n",
    "    print('Обновлённые названия:', list(df.columns[0:2]))"
   ]
  },
  {
   "cell_type": "markdown",
   "metadata": {},
   "source": [
    "___\n",
    "\n",
    "## Анализ данных"
   ]
  },
  {
   "cell_type": "markdown",
   "metadata": {},
   "source": [
    "Описание колонок:\n",
    "\n",
    "- `offer_depersonalised` и `goods_depersonalised` - идентификаторы предложения и товара соответственно\n",
    "- `sum_length` - суммарная длина пары названий и атрибутов в символах\n",
    "- `dist` - расстояние между названиями предложения и товара*\n",
    "- `attrs+title_score` - вероятность матча от рескоринговой модели\n",
    "- `offer_price` и `item_price` - цена предложения и товара соответственно\n",
    "- `goods_category_id` - категория товара\n",
    "- `id` - идентификатор пары offer_depersonalised + $ + goods_depersonalised\n",
    "- `target` (только в train.csv) - метка класса (0 - не матч, 1 - матч)\n",
    "\n",
    "\\* столбец заявлен, но отсутствует в исходных данных."
   ]
  },
  {
   "cell_type": "markdown",
   "metadata": {},
   "source": [
    "### Train"
   ]
  },
  {
   "cell_type": "code",
   "execution_count": 4,
   "metadata": {},
   "outputs": [
    {
     "data": {
      "text/html": [
       "<div>\n",
       "<style scoped>\n",
       "    .dataframe tbody tr th:only-of-type {\n",
       "        vertical-align: middle;\n",
       "    }\n",
       "\n",
       "    .dataframe tbody tr th {\n",
       "        vertical-align: top;\n",
       "    }\n",
       "\n",
       "    .dataframe thead th {\n",
       "        text-align: right;\n",
       "    }\n",
       "</style>\n",
       "<table border=\"1\" class=\"dataframe\">\n",
       "  <thead>\n",
       "    <tr style=\"text-align: right;\">\n",
       "      <th></th>\n",
       "      <th>offer_depersonalised</th>\n",
       "      <th>goods_depersonalised</th>\n",
       "      <th>sum_length</th>\n",
       "      <th>attrs+title_score</th>\n",
       "      <th>offer_price</th>\n",
       "      <th>goods_price</th>\n",
       "      <th>goods_category_id</th>\n",
       "      <th>target</th>\n",
       "      <th>id</th>\n",
       "    </tr>\n",
       "  </thead>\n",
       "  <tbody>\n",
       "    <tr>\n",
       "      <th>0</th>\n",
       "      <td>295140</td>\n",
       "      <td>1396793</td>\n",
       "      <td>37</td>\n",
       "      <td>0.027267</td>\n",
       "      <td>1070</td>\n",
       "      <td>NaN</td>\n",
       "      <td>14.0</td>\n",
       "      <td>0</td>\n",
       "      <td>295140$1396793</td>\n",
       "    </tr>\n",
       "    <tr>\n",
       "      <th>1</th>\n",
       "      <td>65291</td>\n",
       "      <td>1396586</td>\n",
       "      <td>38</td>\n",
       "      <td>0.050415</td>\n",
       "      <td>698</td>\n",
       "      <td>NaN</td>\n",
       "      <td>14.0</td>\n",
       "      <td>0</td>\n",
       "      <td>65291$1396586</td>\n",
       "    </tr>\n",
       "    <tr>\n",
       "      <th>2</th>\n",
       "      <td>39232</td>\n",
       "      <td>1396244</td>\n",
       "      <td>38</td>\n",
       "      <td>0.087280</td>\n",
       "      <td>837</td>\n",
       "      <td>NaN</td>\n",
       "      <td>14.0</td>\n",
       "      <td>0</td>\n",
       "      <td>39232$1396244</td>\n",
       "    </tr>\n",
       "    <tr>\n",
       "      <th>3</th>\n",
       "      <td>39232</td>\n",
       "      <td>1396513</td>\n",
       "      <td>38</td>\n",
       "      <td>0.087280</td>\n",
       "      <td>837</td>\n",
       "      <td>NaN</td>\n",
       "      <td>14.0</td>\n",
       "      <td>0</td>\n",
       "      <td>39232$1396513</td>\n",
       "    </tr>\n",
       "    <tr>\n",
       "      <th>4</th>\n",
       "      <td>65052</td>\n",
       "      <td>1396237</td>\n",
       "      <td>38</td>\n",
       "      <td>0.079773</td>\n",
       "      <td>1085</td>\n",
       "      <td>NaN</td>\n",
       "      <td>14.0</td>\n",
       "      <td>0</td>\n",
       "      <td>65052$1396237</td>\n",
       "    </tr>\n",
       "  </tbody>\n",
       "</table>\n",
       "</div>"
      ],
      "text/plain": [
       "   offer_depersonalised  goods_depersonalised  sum_length  attrs+title_score  \\\n",
       "0                295140               1396793          37           0.027267   \n",
       "1                 65291               1396586          38           0.050415   \n",
       "2                 39232               1396244          38           0.087280   \n",
       "3                 39232               1396513          38           0.087280   \n",
       "4                 65052               1396237          38           0.079773   \n",
       "\n",
       "   offer_price  goods_price  goods_category_id  target              id  \n",
       "0         1070          NaN               14.0       0  295140$1396793  \n",
       "1          698          NaN               14.0       0   65291$1396586  \n",
       "2          837          NaN               14.0       0   39232$1396244  \n",
       "3          837          NaN               14.0       0   39232$1396513  \n",
       "4         1085          NaN               14.0       0   65052$1396237  "
      ]
     },
     "metadata": {},
     "output_type": "display_data"
    },
    {
     "name": "stdout",
     "output_type": "stream",
     "text": [
      "<class 'pandas.core.frame.DataFrame'>\n",
      "RangeIndex: 2518441 entries, 0 to 2518440\n",
      "Data columns (total 9 columns):\n",
      " #   Column                Non-Null Count    Dtype  \n",
      "---  ------                --------------    -----  \n",
      " 0   offer_depersonalised  2518441 non-null  int64  \n",
      " 1   goods_depersonalised  2518441 non-null  int64  \n",
      " 2   sum_length            2518441 non-null  int64  \n",
      " 3   attrs+title_score     2518441 non-null  float64\n",
      " 4   offer_price           2518441 non-null  int64  \n",
      " 5   goods_price           2111154 non-null  float64\n",
      " 6   goods_category_id     2517608 non-null  float64\n",
      " 7   target                2518441 non-null  int64  \n",
      " 8   id                    2518441 non-null  object \n",
      "dtypes: float64(3), int64(5), object(1)\n",
      "memory usage: 172.9+ MB\n",
      "Кол-во мэтчей-дубликатов: 0\n",
      "Кол-во предложений: 500000\n",
      "Кол-во товаров: 1592607\n"
     ]
    }
   ],
   "source": [
    "# вывод общей информации\n",
    "display(train_df.head())\n",
    "train_df.info(verbose=True, show_counts=True)\n",
    "print('Кол-во мэтчей-дубликатов:', train_df.duplicated().sum())\n",
    "print('Кол-во предложений:', len(train_df['offer_depersonalised'].unique()))\n",
    "print('Кол-во товаров:', len(train_df['goods_depersonalised'].unique()))\n",
    "\n",
    "# выделение цел. признака из обучающей выборки\n",
    "train_targets = train_df['target']\n",
    "train_df.drop('target', axis=1, inplace=True)"
   ]
  },
  {
   "cell_type": "markdown",
   "metadata": {},
   "source": [
    "Всего около 2,5 млн пар. Пропуски присутствуют лишь в `goods_price` и `goods_category_id`."
   ]
  },
  {
   "cell_type": "markdown",
   "metadata": {},
   "source": [
    "### Test"
   ]
  },
  {
   "cell_type": "code",
   "execution_count": 5,
   "metadata": {},
   "outputs": [
    {
     "data": {
      "text/html": [
       "<div>\n",
       "<style scoped>\n",
       "    .dataframe tbody tr th:only-of-type {\n",
       "        vertical-align: middle;\n",
       "    }\n",
       "\n",
       "    .dataframe tbody tr th {\n",
       "        vertical-align: top;\n",
       "    }\n",
       "\n",
       "    .dataframe thead th {\n",
       "        text-align: right;\n",
       "    }\n",
       "</style>\n",
       "<table border=\"1\" class=\"dataframe\">\n",
       "  <thead>\n",
       "    <tr style=\"text-align: right;\">\n",
       "      <th></th>\n",
       "      <th>offer_depersonalised</th>\n",
       "      <th>goods_depersonalised</th>\n",
       "      <th>sum_length</th>\n",
       "      <th>attrs+title_score</th>\n",
       "      <th>offer_price</th>\n",
       "      <th>goods_price</th>\n",
       "      <th>goods_category_id</th>\n",
       "      <th>id</th>\n",
       "    </tr>\n",
       "  </thead>\n",
       "  <tbody>\n",
       "    <tr>\n",
       "      <th>0</th>\n",
       "      <td>64819</td>\n",
       "      <td>1396468</td>\n",
       "      <td>38</td>\n",
       "      <td>0.046997</td>\n",
       "      <td>368</td>\n",
       "      <td>NaN</td>\n",
       "      <td>14.0</td>\n",
       "      <td>64819$1396468</td>\n",
       "    </tr>\n",
       "    <tr>\n",
       "      <th>1</th>\n",
       "      <td>64819</td>\n",
       "      <td>1396235</td>\n",
       "      <td>38</td>\n",
       "      <td>0.046997</td>\n",
       "      <td>368</td>\n",
       "      <td>NaN</td>\n",
       "      <td>14.0</td>\n",
       "      <td>64819$1396235</td>\n",
       "    </tr>\n",
       "    <tr>\n",
       "      <th>2</th>\n",
       "      <td>64819</td>\n",
       "      <td>1396318</td>\n",
       "      <td>38</td>\n",
       "      <td>0.046997</td>\n",
       "      <td>368</td>\n",
       "      <td>NaN</td>\n",
       "      <td>14.0</td>\n",
       "      <td>64819$1396318</td>\n",
       "    </tr>\n",
       "    <tr>\n",
       "      <th>3</th>\n",
       "      <td>359959</td>\n",
       "      <td>1396281</td>\n",
       "      <td>40</td>\n",
       "      <td>0.060211</td>\n",
       "      <td>634</td>\n",
       "      <td>NaN</td>\n",
       "      <td>14.0</td>\n",
       "      <td>359959$1396281</td>\n",
       "    </tr>\n",
       "    <tr>\n",
       "      <th>4</th>\n",
       "      <td>142700</td>\n",
       "      <td>717657</td>\n",
       "      <td>40</td>\n",
       "      <td>0.000370</td>\n",
       "      <td>14924</td>\n",
       "      <td>31840.0</td>\n",
       "      <td>2.0</td>\n",
       "      <td>142700$717657</td>\n",
       "    </tr>\n",
       "  </tbody>\n",
       "</table>\n",
       "</div>"
      ],
      "text/plain": [
       "   offer_depersonalised  goods_depersonalised  sum_length  attrs+title_score  \\\n",
       "0                 64819               1396468          38           0.046997   \n",
       "1                 64819               1396235          38           0.046997   \n",
       "2                 64819               1396318          38           0.046997   \n",
       "3                359959               1396281          40           0.060211   \n",
       "4                142700                717657          40           0.000370   \n",
       "\n",
       "   offer_price  goods_price  goods_category_id              id  \n",
       "0          368          NaN               14.0   64819$1396468  \n",
       "1          368          NaN               14.0   64819$1396235  \n",
       "2          368          NaN               14.0   64819$1396318  \n",
       "3          634          NaN               14.0  359959$1396281  \n",
       "4        14924      31840.0                2.0   142700$717657  "
      ]
     },
     "metadata": {},
     "output_type": "display_data"
    },
    {
     "name": "stdout",
     "output_type": "stream",
     "text": [
      "<class 'pandas.core.frame.DataFrame'>\n",
      "RangeIndex: 363835 entries, 0 to 363834\n",
      "Data columns (total 8 columns):\n",
      " #   Column                Non-Null Count   Dtype  \n",
      "---  ------                --------------   -----  \n",
      " 0   offer_depersonalised  363835 non-null  int64  \n",
      " 1   goods_depersonalised  363835 non-null  int64  \n",
      " 2   sum_length            363835 non-null  int64  \n",
      " 3   attrs+title_score     363835 non-null  float64\n",
      " 4   offer_price           363835 non-null  int64  \n",
      " 5   goods_price           304864 non-null  float64\n",
      " 6   goods_category_id     363704 non-null  float64\n",
      " 7   id                    363835 non-null  object \n",
      "dtypes: float64(3), int64(4), object(1)\n",
      "memory usage: 22.2+ MB\n",
      "Кол-во мэтчей-дубликатов: 0\n",
      "Кол-во предложений: 72767\n",
      "Кол-во товаров: 316987\n"
     ]
    }
   ],
   "source": [
    "# вывод общей информации\n",
    "display(test_df.head())\n",
    "test_df.info(verbose=True, show_counts=True)\n",
    "print('Кол-во мэтчей-дубликатов:', test_df.duplicated().sum())\n",
    "print('Кол-во предложений:', len(test_df['offer_depersonalised'].unique()))\n",
    "print('Кол-во товаров:', len(test_df['goods_depersonalised'].unique()))"
   ]
  },
  {
   "cell_type": "markdown",
   "metadata": {},
   "source": [
    "### Embeddings и массивы"
   ]
  },
  {
   "cell_type": "code",
   "execution_count": 6,
   "metadata": {},
   "outputs": [
    {
     "data": {
      "text/plain": [
       "array([[ 0.31286708,  0.9922713 ,  1.2100751 , ..., -1.7545763 ,\n",
       "        -0.23919716, -1.2425919 ],\n",
       "       [ 2.4316337 ,  0.9014603 , -0.22259077, ..., -1.1001699 ,\n",
       "        -1.1482008 , -0.18731171],\n",
       "       [ 1.0660228 , -0.752132  ,  1.1504172 , ...,  0.9137148 ,\n",
       "        -0.8000038 , -0.83978504],\n",
       "       ...,\n",
       "       [ 0.15886657,  1.1132201 ,  1.8915755 , ..., -1.9614205 ,\n",
       "         0.25737146,  2.2726674 ],\n",
       "       [-0.07633805,  1.1760142 ,  1.7563714 , ...,  0.8059396 ,\n",
       "        -0.01547651, -1.1802496 ],\n",
       "       [ 2.2704175 , -0.9822532 , -0.21690361, ...,  1.8719108 ,\n",
       "        -0.7007608 , -1.5808858 ]], dtype=float32)"
      ]
     },
     "metadata": {},
     "output_type": "display_data"
    },
    {
     "name": "stdout",
     "output_type": "stream",
     "text": [
      "Размер массива: (457586, 256)\n",
      "Макс. значение массива: 10.499202\n",
      "Мин. значение массива: -10.556353\n"
     ]
    }
   ],
   "source": [
    "# эмбеддинги\n",
    "display(offer_image_embed)\n",
    "print('Размер массива:', offer_image_embed.shape)\n",
    "\n",
    "max_value = max(max(row) for row in offer_image_embed)\n",
    "min_value = min(min(row) for row in offer_image_embed)\n",
    "print('Макс. значение массива:', max_value)\n",
    "print('Мин. значение массива:', min_value)"
   ]
  },
  {
   "cell_type": "code",
   "execution_count": 7,
   "metadata": {},
   "outputs": [
    {
     "data": {
      "text/plain": [
       "array(['140', '185', '187', ..., '572691', '572699', '572735'],\n",
       "      dtype='<U6')"
      ]
     },
     "metadata": {},
     "output_type": "display_data"
    },
    {
     "name": "stdout",
     "output_type": "stream",
     "text": [
      "Размер массива: (457586,)\n"
     ]
    }
   ],
   "source": [
    "# массив id предложений\n",
    "display(offer_image_items)\n",
    "print('Размер массива:', offer_image_items.shape)"
   ]
  }
 ],
 "metadata": {
  "kernelspec": {
   "display_name": "Python 3",
   "language": "python",
   "name": "python3"
  },
  "language_info": {
   "codemirror_mode": {
    "name": "ipython",
    "version": 3
   },
   "file_extension": ".py",
   "mimetype": "text/x-python",
   "name": "python",
   "nbconvert_exporter": "python",
   "pygments_lexer": "ipython3",
   "version": "3.11.7"
  },
  "orig_nbformat": 4
 },
 "nbformat": 4,
 "nbformat_minor": 2
}
