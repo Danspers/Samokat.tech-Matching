{
 "cells": [
  {
   "cell_type": "markdown",
   "metadata": {},
   "source": [
    "# Samokat.tech Matching"
   ]
  },
  {
   "cell_type": "markdown",
   "metadata": {},
   "source": [
    "## Описание проекта"
   ]
  },
  {
   "cell_type": "markdown",
   "metadata": {},
   "source": [
    "**Matching** - это задача поиска и сопоставления двух объектов из разных наборов данных. Такая потребность возникла у маркетплейса, который имеет большой перечен товаров для продажи. На склад собираются поступить новые товары, которые могут имеет небольшие различия от уже существующих. Технически, это выглядит как совершенно новые товары. Фактически это те же товары, которые уже продаются на маркетплейсе. Задача сопоставить и связать новые (предлагаемые для продажи) товары со старыми, пользуясь совпадениями в характеристиках, описаниях и изображениях.\n",
    "\n",
    "**Что надо сделать?**\n",
    "- предстоит реализовать финальную часть пайплайна матчинга. В ней необходимо принять решение для каждой пары (товар предлагаемый продавцом — товар на площадке), является ли она матчем или нет (бинарная классификация).\n",
    "- Для этого у каждой пары есть набор признаков и наборы векторов (картиночные и текстовые), которые описывают товары из этой пары.\n",
    "- В качестве метрики качества решения используется _F-score_.\n",
    "\n",
    "**Данные:** [источник](https://www.kaggle.com/competitions/binary-classification-offers-on-the-marketplace/data)\n",
    "\n",
    "- *train.csv -* обучающий датасет. Содержит пары предложений и товаров, вероятность их мэтча, а так же другие параметры (id товаров, категория и др.)\n",
    "- *test.csv* - датасет с товарами (уникальный **id** и вектор признаков), для которых надо найти наиболее близкие товары из *base.csv*\n",
    "- *sample_submission.csv* - пример файла предсказаний.\n",
    "\n",
    "Каждое предложение и товар имеют изображение и название с атрибутами, которые в свою очередь представлены в векторном виде (эмбеддингах).\n",
    "Embeddings:\n",
    "\n",
    "- `goods_image_vectors` и `offer_image_vectors` - содержат файлы с векторами изображений (embed_deperson.npy) и их идентификаторами (items_deperson.npy) для товаров ассортимента и предложений соответственно. Объекты в файлах соотносятся 1 к 1.\n",
    "- `goods_title_vectors` и `offer_title_vectors` - содержат файлы с векторами названий+атрибутов (embed_deperson.npy) и их идентификаторами (items_deperson.npy) для товаров ассортимента и предложений соответственно. Объекты в файлах соотносятся 1 к 1.\n",
    "\n",
    "**План работы:**\n",
    "- Загрузить данные\n",
    "- Понять задачу\n",
    "- Подготовить данные\n",
    "- Обучить модель\n",
    "- Измерить качество\n",
    "- git commit\n",
    "- Сделать лучше!\n",
    "\n",
    "Примечание: ячейки кода, исполнение которы занимает продолжительное время, имеют функцию `%%time` и время исполнения, указанное в конце выходных данных. \n",
    "\n",
    "___"
   ]
  },
  {
   "cell_type": "markdown",
   "metadata": {},
   "source": [
    "## Подготовка"
   ]
  },
  {
   "cell_type": "code",
   "execution_count": 1,
   "metadata": {},
   "outputs": [],
   "source": [
    "# импорт библиотек\n",
    "#import phik\n",
    "#import faiss\n",
    "import numpy as np\n",
    "import pandas as pd\n",
    "import seaborn as sns\n",
    "import matplotlib.pyplot as plt\n",
    "\n",
    "# импорт спец. модулей\n",
    "from tqdm import tqdm\n",
    "from sklearn.preprocessing import StandardScaler\n",
    "from sklearn.linear_model import LogisticRegression\n",
    "from sklearn.metrics import f1_score, accuracy_score, precision_score, roc_curve, ConfusionMatrixDisplay\n",
    "\n",
    "# константы\n",
    "FIGSIZE = (14, 6)\n",
    "RANDOM_STATE = 42\n",
    "DATA_DIR = 'data/'\n",
    "ITEMS_FILENAME = 'items_deperson.npy'\n",
    "EMBEDDINGS_FILENAME = 'embed_deperson.npy'"
   ]
  },
  {
   "cell_type": "code",
   "execution_count": 2,
   "metadata": {},
   "outputs": [],
   "source": [
    "# чтение датасетов\n",
    "train_df          = pd.read_csv(DATA_DIR + 'train.csv')\n",
    "test_df           = pd.read_csv(DATA_DIR + 'test.csv')\n",
    "sample_submission = pd.read_csv(DATA_DIR + 'sample_submission.csv')"
   ]
  },
  {
   "cell_type": "code",
   "execution_count": 3,
   "metadata": {},
   "outputs": [],
   "source": [
    "# чтение наборов векторов NumPy\n",
    "goods_image_embed = np.load(DATA_DIR + 'goods_image_vectors/' + EMBEDDINGS_FILENAME)\n",
    "goods_image_items = np.load(DATA_DIR + 'goods_image_vectors/' + ITEMS_FILENAME)\n",
    "goods_title_embed = np.load(DATA_DIR + 'goods_title_vectors/' + EMBEDDINGS_FILENAME)\n",
    "goods_title_items = np.load(DATA_DIR + 'goods_title_vectors/' + ITEMS_FILENAME)\n",
    "\n",
    "offer_image_embed = np.load(DATA_DIR + 'offer_image_vectors/' + EMBEDDINGS_FILENAME)\n",
    "offer_image_items = np.load(DATA_DIR + 'offer_image_vectors/' + ITEMS_FILENAME)\n",
    "offer_title_embed = np.load(DATA_DIR + 'offer_title_vectors/' + EMBEDDINGS_FILENAME)\n",
    "offer_title_items = np.load(DATA_DIR + 'offer_title_vectors/' + ITEMS_FILENAME)"
   ]
  },
  {
   "cell_type": "markdown",
   "metadata": {},
   "source": [
    "При первичном знакомстве с данными обнаружил опечатку в названиях пары столбцов. Дабы не множить её, я внесу исправление в самом начале. \n",
    "\n",
    "`offer_depersAnalised` -> `offer_depersOnalised`\n",
    "\n",
    "`goods_depersAnalised` -> `goods_depersOnalised`"
   ]
  },
  {
   "cell_type": "code",
   "execution_count": 4,
   "metadata": {},
   "outputs": [
    {
     "name": "stdout",
     "output_type": "stream",
     "text": [
      "Обновлённые названия: ['offer_depersonalised', 'goods_depersonalised']\n",
      "Обновлённые названия: ['offer_depersonalised', 'goods_depersonalised']\n"
     ]
    }
   ],
   "source": [
    "# коррекция опечатки\n",
    "for df in (train_df, test_df):\n",
    "    df.rename(columns={'offer_depersanalised' : 'offer_depersonalised',\n",
    "                       'goods_depersanalised' : 'goods_depersonalised'}, inplace=True)\n",
    "    print('Обновлённые названия:', list(df.columns[0:2]))"
   ]
  },
  {
   "cell_type": "markdown",
   "metadata": {},
   "source": [
    "___\n",
    "\n",
    "## Первичный анализ данных"
   ]
  },
  {
   "cell_type": "markdown",
   "metadata": {},
   "source": [
    "Описание колонок:\n",
    "\n",
    "- `offer_depersonalised` и `goods_depersonalised` - идентификаторы предложения и товара соответственно\n",
    "- `sum_length` - суммарная длина пары названий и атрибутов в символах\n",
    "- `dist` - расстояние между названиями предложения и товара*\n",
    "- `attrs+title_score` - вероятность матча от рескоринговой модели\n",
    "- `offer_price` и `item_price` - цена предложения и товара соответственно\n",
    "- `goods_category_id` - категория товара\n",
    "- `id` - идентификатор пары offer_depersonalised + $ + goods_depersonalised\n",
    "- `target` (только в train.csv) - метка класса (0 - не матч, 1 - матч)\n",
    "\n",
    "\\* столбец заявлен, но отсутствует в исходных данных."
   ]
  },
  {
   "cell_type": "markdown",
   "metadata": {},
   "source": [
    "### Train"
   ]
  },
  {
   "cell_type": "code",
   "execution_count": 5,
   "metadata": {},
   "outputs": [
    {
     "data": {
      "text/html": [
       "<div>\n",
       "<style scoped>\n",
       "    .dataframe tbody tr th:only-of-type {\n",
       "        vertical-align: middle;\n",
       "    }\n",
       "\n",
       "    .dataframe tbody tr th {\n",
       "        vertical-align: top;\n",
       "    }\n",
       "\n",
       "    .dataframe thead th {\n",
       "        text-align: right;\n",
       "    }\n",
       "</style>\n",
       "<table border=\"1\" class=\"dataframe\">\n",
       "  <thead>\n",
       "    <tr style=\"text-align: right;\">\n",
       "      <th></th>\n",
       "      <th>offer_depersonalised</th>\n",
       "      <th>goods_depersonalised</th>\n",
       "      <th>sum_length</th>\n",
       "      <th>attrs+title_score</th>\n",
       "      <th>offer_price</th>\n",
       "      <th>goods_price</th>\n",
       "      <th>goods_category_id</th>\n",
       "      <th>target</th>\n",
       "      <th>id</th>\n",
       "    </tr>\n",
       "  </thead>\n",
       "  <tbody>\n",
       "    <tr>\n",
       "      <th>0</th>\n",
       "      <td>295140</td>\n",
       "      <td>1396793</td>\n",
       "      <td>37</td>\n",
       "      <td>0.027267</td>\n",
       "      <td>1070</td>\n",
       "      <td>NaN</td>\n",
       "      <td>14.0</td>\n",
       "      <td>0</td>\n",
       "      <td>295140$1396793</td>\n",
       "    </tr>\n",
       "    <tr>\n",
       "      <th>1</th>\n",
       "      <td>65291</td>\n",
       "      <td>1396586</td>\n",
       "      <td>38</td>\n",
       "      <td>0.050415</td>\n",
       "      <td>698</td>\n",
       "      <td>NaN</td>\n",
       "      <td>14.0</td>\n",
       "      <td>0</td>\n",
       "      <td>65291$1396586</td>\n",
       "    </tr>\n",
       "    <tr>\n",
       "      <th>2</th>\n",
       "      <td>39232</td>\n",
       "      <td>1396244</td>\n",
       "      <td>38</td>\n",
       "      <td>0.087280</td>\n",
       "      <td>837</td>\n",
       "      <td>NaN</td>\n",
       "      <td>14.0</td>\n",
       "      <td>0</td>\n",
       "      <td>39232$1396244</td>\n",
       "    </tr>\n",
       "    <tr>\n",
       "      <th>3</th>\n",
       "      <td>39232</td>\n",
       "      <td>1396513</td>\n",
       "      <td>38</td>\n",
       "      <td>0.087280</td>\n",
       "      <td>837</td>\n",
       "      <td>NaN</td>\n",
       "      <td>14.0</td>\n",
       "      <td>0</td>\n",
       "      <td>39232$1396513</td>\n",
       "    </tr>\n",
       "    <tr>\n",
       "      <th>4</th>\n",
       "      <td>65052</td>\n",
       "      <td>1396237</td>\n",
       "      <td>38</td>\n",
       "      <td>0.079773</td>\n",
       "      <td>1085</td>\n",
       "      <td>NaN</td>\n",
       "      <td>14.0</td>\n",
       "      <td>0</td>\n",
       "      <td>65052$1396237</td>\n",
       "    </tr>\n",
       "  </tbody>\n",
       "</table>\n",
       "</div>"
      ],
      "text/plain": [
       "   offer_depersonalised  goods_depersonalised  sum_length  attrs+title_score  \\\n",
       "0                295140               1396793          37           0.027267   \n",
       "1                 65291               1396586          38           0.050415   \n",
       "2                 39232               1396244          38           0.087280   \n",
       "3                 39232               1396513          38           0.087280   \n",
       "4                 65052               1396237          38           0.079773   \n",
       "\n",
       "   offer_price  goods_price  goods_category_id  target              id  \n",
       "0         1070          NaN               14.0       0  295140$1396793  \n",
       "1          698          NaN               14.0       0   65291$1396586  \n",
       "2          837          NaN               14.0       0   39232$1396244  \n",
       "3          837          NaN               14.0       0   39232$1396513  \n",
       "4         1085          NaN               14.0       0   65052$1396237  "
      ]
     },
     "metadata": {},
     "output_type": "display_data"
    },
    {
     "name": "stdout",
     "output_type": "stream",
     "text": [
      "<class 'pandas.core.frame.DataFrame'>\n",
      "RangeIndex: 2518441 entries, 0 to 2518440\n",
      "Data columns (total 9 columns):\n",
      " #   Column                Non-Null Count    Dtype  \n",
      "---  ------                --------------    -----  \n",
      " 0   offer_depersonalised  2518441 non-null  int64  \n",
      " 1   goods_depersonalised  2518441 non-null  int64  \n",
      " 2   sum_length            2518441 non-null  int64  \n",
      " 3   attrs+title_score     2518441 non-null  float64\n",
      " 4   offer_price           2518441 non-null  int64  \n",
      " 5   goods_price           2111154 non-null  float64\n",
      " 6   goods_category_id     2517608 non-null  float64\n",
      " 7   target                2518441 non-null  int64  \n",
      " 8   id                    2518441 non-null  object \n",
      "dtypes: float64(3), int64(5), object(1)\n",
      "memory usage: 172.9+ MB\n"
     ]
    },
    {
     "name": "stdout",
     "output_type": "stream",
     "text": [
      "Кол-во мэтчей-дубликатов: 0\n",
      "Кол-во предложений: 500000\n",
      "Кол-во товаров: 1592607\n"
     ]
    }
   ],
   "source": [
    "# вывод общей информации\n",
    "display(train_df.head())\n",
    "train_df.info(verbose=True, show_counts=True)\n",
    "\n",
    "print('Кол-во мэтчей-дубликатов:', train_df.duplicated().sum())\n",
    "print('Кол-во предложений:', len(train_df['offer_depersonalised'].unique()))\n",
    "print('Кол-во товаров:', len(train_df['goods_depersonalised'].unique()))\n",
    "\n",
    "# выделение цел. признака из обучающей выборки\n",
    "train_targets = train_df['target']\n",
    "train_df.drop('target', axis=1, inplace=True)"
   ]
  },
  {
   "cell_type": "code",
   "execution_count": 6,
   "metadata": {},
   "outputs": [
    {
     "name": "stdout",
     "output_type": "stream",
     "text": [
      "ID категорий: [2.0, 3.0, 4.0, 5.0, 6.0, 7.0, 8.0, 9.0, 11.0, 13.0, 14.0, 17.0, 18.0, 19.0, 21.0, 69.0, 81.0, 82.0, 83.0, 2463684633817211.0, nan]\n",
      "Кол-во категорий: 21\n"
     ]
    },
    {
     "data": {
      "text/html": [
       "<div>\n",
       "<style scoped>\n",
       "    .dataframe tbody tr th:only-of-type {\n",
       "        vertical-align: middle;\n",
       "    }\n",
       "\n",
       "    .dataframe tbody tr th {\n",
       "        vertical-align: top;\n",
       "    }\n",
       "\n",
       "    .dataframe thead th {\n",
       "        text-align: right;\n",
       "    }\n",
       "</style>\n",
       "<table border=\"1\" class=\"dataframe\">\n",
       "  <thead>\n",
       "    <tr style=\"text-align: right;\">\n",
       "      <th></th>\n",
       "      <th>count</th>\n",
       "    </tr>\n",
       "    <tr>\n",
       "      <th>goods_category_id</th>\n",
       "      <th></th>\n",
       "    </tr>\n",
       "  </thead>\n",
       "  <tbody>\n",
       "    <tr>\n",
       "      <th>5.000000e+00</th>\n",
       "      <td>460420</td>\n",
       "    </tr>\n",
       "    <tr>\n",
       "      <th>6.000000e+00</th>\n",
       "      <td>312857</td>\n",
       "    </tr>\n",
       "    <tr>\n",
       "      <th>2.000000e+00</th>\n",
       "      <td>249113</td>\n",
       "    </tr>\n",
       "    <tr>\n",
       "      <th>3.000000e+00</th>\n",
       "      <td>195435</td>\n",
       "    </tr>\n",
       "    <tr>\n",
       "      <th>1.400000e+01</th>\n",
       "      <td>154753</td>\n",
       "    </tr>\n",
       "    <tr>\n",
       "      <th>8.000000e+00</th>\n",
       "      <td>153579</td>\n",
       "    </tr>\n",
       "    <tr>\n",
       "      <th>7.000000e+00</th>\n",
       "      <td>150662</td>\n",
       "    </tr>\n",
       "    <tr>\n",
       "      <th>8.300000e+01</th>\n",
       "      <td>142425</td>\n",
       "    </tr>\n",
       "    <tr>\n",
       "      <th>1.100000e+01</th>\n",
       "      <td>104619</td>\n",
       "    </tr>\n",
       "    <tr>\n",
       "      <th>8.200000e+01</th>\n",
       "      <td>103778</td>\n",
       "    </tr>\n",
       "    <tr>\n",
       "      <th>4.000000e+00</th>\n",
       "      <td>96313</td>\n",
       "    </tr>\n",
       "    <tr>\n",
       "      <th>1.900000e+01</th>\n",
       "      <td>67793</td>\n",
       "    </tr>\n",
       "    <tr>\n",
       "      <th>2.100000e+01</th>\n",
       "      <td>67608</td>\n",
       "    </tr>\n",
       "    <tr>\n",
       "      <th>8.100000e+01</th>\n",
       "      <td>64705</td>\n",
       "    </tr>\n",
       "    <tr>\n",
       "      <th>1.700000e+01</th>\n",
       "      <td>55106</td>\n",
       "    </tr>\n",
       "    <tr>\n",
       "      <th>9.000000e+00</th>\n",
       "      <td>50027</td>\n",
       "    </tr>\n",
       "    <tr>\n",
       "      <th>1.300000e+01</th>\n",
       "      <td>36950</td>\n",
       "    </tr>\n",
       "    <tr>\n",
       "      <th>6.900000e+01</th>\n",
       "      <td>29622</td>\n",
       "    </tr>\n",
       "    <tr>\n",
       "      <th>1.800000e+01</th>\n",
       "      <td>16863</td>\n",
       "    </tr>\n",
       "    <tr>\n",
       "      <th>2.463685e+15</th>\n",
       "      <td>4980</td>\n",
       "    </tr>\n",
       "  </tbody>\n",
       "</table>\n",
       "</div>"
      ],
      "text/plain": [
       "                    count\n",
       "goods_category_id        \n",
       "5.000000e+00       460420\n",
       "6.000000e+00       312857\n",
       "2.000000e+00       249113\n",
       "3.000000e+00       195435\n",
       "1.400000e+01       154753\n",
       "8.000000e+00       153579\n",
       "7.000000e+00       150662\n",
       "8.300000e+01       142425\n",
       "1.100000e+01       104619\n",
       "8.200000e+01       103778\n",
       "4.000000e+00        96313\n",
       "1.900000e+01        67793\n",
       "2.100000e+01        67608\n",
       "8.100000e+01        64705\n",
       "1.700000e+01        55106\n",
       "9.000000e+00        50027\n",
       "1.300000e+01        36950\n",
       "6.900000e+01        29622\n",
       "1.800000e+01        16863\n",
       "2.463685e+15         4980"
      ]
     },
     "metadata": {},
     "output_type": "display_data"
    }
   ],
   "source": [
    "# категории товаров\n",
    "#train_df['goods_category_id'] = train_df['goods_category_id'].astype('Int64')\n",
    "print('ID категорий:', sorted(list(train_df['goods_category_id'].unique())))\n",
    "print('Кол-во категорий:', len(train_df['goods_category_id'].unique()))\n",
    "display(train_df['goods_category_id'].value_counts().to_frame())#.sort_index().head(-1)#.hist(bins=20)"
   ]
  },
  {
   "cell_type": "code",
   "execution_count": 7,
   "metadata": {},
   "outputs": [
    {
     "data": {
      "image/png": "[encoded data removed]",
      "text/plain": [
       "<Figure size 1400x600 with 1 Axes>"
      ]
     },
     "metadata": {},
     "output_type": "display_data"
    }
   ],
   "source": [
    "train_df['goods_category_id'].hist(bins=85, range=(0, 85), figsize=FIGSIZE)\n",
    "plt.ylabel('Кол-во товаров в категории')\n",
    "plt.xlabel('ID категорий товаров')\n",
    "plt.show()"
   ]
  },
  {
   "cell_type": "markdown",
   "metadata": {},
   "source": [
    "Промежуточный вывод:\n",
    "\n",
    "- Всего около 2,5 млн пар для мэтча.\n",
    "- Пропуски присутствуют лишь в столбцах `goods_price` и `goods_category_id`.\n",
    "- Категорий товаров - небольшое количество. Все они обозначены условными номерами. Поскольку это целые числа, то тип данных уместно заменить на `Int64`. В дополнение он поддерживает nan-значения. Особый интерес вызывает категория №2463684633817211. Номер особо выделяется на фоне остальных. Это самая малочисленная категория, но тем не менее она содержит почти 5000 товаров."
   ]
  },
  {
   "cell_type": "markdown",
   "metadata": {},
   "source": [
    "### Test"
   ]
  },
  {
   "cell_type": "code",
   "execution_count": 8,
   "metadata": {},
   "outputs": [
    {
     "data": {
      "text/html": [
       "<div>\n",
       "<style scoped>\n",
       "    .dataframe tbody tr th:only-of-type {\n",
       "        vertical-align: middle;\n",
       "    }\n",
       "\n",
       "    .dataframe tbody tr th {\n",
       "        vertical-align: top;\n",
       "    }\n",
       "\n",
       "    .dataframe thead th {\n",
       "        text-align: right;\n",
       "    }\n",
       "</style>\n",
       "<table border=\"1\" class=\"dataframe\">\n",
       "  <thead>\n",
       "    <tr style=\"text-align: right;\">\n",
       "      <th></th>\n",
       "      <th>offer_depersonalised</th>\n",
       "      <th>goods_depersonalised</th>\n",
       "      <th>sum_length</th>\n",
       "      <th>attrs+title_score</th>\n",
       "      <th>offer_price</th>\n",
       "      <th>goods_price</th>\n",
       "      <th>goods_category_id</th>\n",
       "      <th>id</th>\n",
       "    </tr>\n",
       "  </thead>\n",
       "  <tbody>\n",
       "    <tr>\n",
       "      <th>0</th>\n",
       "      <td>64819</td>\n",
       "      <td>1396468</td>\n",
       "      <td>38</td>\n",
       "      <td>0.046997</td>\n",
       "      <td>368</td>\n",
       "      <td>NaN</td>\n",
       "      <td>14.0</td>\n",
       "      <td>64819$1396468</td>\n",
       "    </tr>\n",
       "    <tr>\n",
       "      <th>1</th>\n",
       "      <td>64819</td>\n",
       "      <td>1396235</td>\n",
       "      <td>38</td>\n",
       "      <td>0.046997</td>\n",
       "      <td>368</td>\n",
       "      <td>NaN</td>\n",
       "      <td>14.0</td>\n",
       "      <td>64819$1396235</td>\n",
       "    </tr>\n",
       "    <tr>\n",
       "      <th>2</th>\n",
       "      <td>64819</td>\n",
       "      <td>1396318</td>\n",
       "      <td>38</td>\n",
       "      <td>0.046997</td>\n",
       "      <td>368</td>\n",
       "      <td>NaN</td>\n",
       "      <td>14.0</td>\n",
       "      <td>64819$1396318</td>\n",
       "    </tr>\n",
       "    <tr>\n",
       "      <th>3</th>\n",
       "      <td>359959</td>\n",
       "      <td>1396281</td>\n",
       "      <td>40</td>\n",
       "      <td>0.060211</td>\n",
       "      <td>634</td>\n",
       "      <td>NaN</td>\n",
       "      <td>14.0</td>\n",
       "      <td>359959$1396281</td>\n",
       "    </tr>\n",
       "    <tr>\n",
       "      <th>4</th>\n",
       "      <td>142700</td>\n",
       "      <td>717657</td>\n",
       "      <td>40</td>\n",
       "      <td>0.000370</td>\n",
       "      <td>14924</td>\n",
       "      <td>31840.0</td>\n",
       "      <td>2.0</td>\n",
       "      <td>142700$717657</td>\n",
       "    </tr>\n",
       "  </tbody>\n",
       "</table>\n",
       "</div>"
      ],
      "text/plain": [
       "   offer_depersonalised  goods_depersonalised  sum_length  attrs+title_score  \\\n",
       "0                 64819               1396468          38           0.046997   \n",
       "1                 64819               1396235          38           0.046997   \n",
       "2                 64819               1396318          38           0.046997   \n",
       "3                359959               1396281          40           0.060211   \n",
       "4                142700                717657          40           0.000370   \n",
       "\n",
       "   offer_price  goods_price  goods_category_id              id  \n",
       "0          368          NaN               14.0   64819$1396468  \n",
       "1          368          NaN               14.0   64819$1396235  \n",
       "2          368          NaN               14.0   64819$1396318  \n",
       "3          634          NaN               14.0  359959$1396281  \n",
       "4        14924      31840.0                2.0   142700$717657  "
      ]
     },
     "metadata": {},
     "output_type": "display_data"
    },
    {
     "name": "stdout",
     "output_type": "stream",
     "text": [
      "<class 'pandas.core.frame.DataFrame'>\n",
      "RangeIndex: 363835 entries, 0 to 363834\n",
      "Data columns (total 8 columns):\n",
      " #   Column                Non-Null Count   Dtype  \n",
      "---  ------                --------------   -----  \n",
      " 0   offer_depersonalised  363835 non-null  int64  \n",
      " 1   goods_depersonalised  363835 non-null  int64  \n",
      " 2   sum_length            363835 non-null  int64  \n",
      " 3   attrs+title_score     363835 non-null  float64\n",
      " 4   offer_price           363835 non-null  int64  \n",
      " 5   goods_price           304864 non-null  float64\n",
      " 6   goods_category_id     363704 non-null  float64\n",
      " 7   id                    363835 non-null  object \n",
      "dtypes: float64(3), int64(4), object(1)\n",
      "memory usage: 22.2+ MB\n",
      "Кол-во мэтчей-дубликатов: 0\n",
      "Кол-во предложений: 72767\n",
      "Кол-во товаров: 316987\n"
     ]
    }
   ],
   "source": [
    "# вывод общей информации\n",
    "display(test_df.head())\n",
    "test_df.info(verbose=True, show_counts=True)\n",
    "\n",
    "print('Кол-во мэтчей-дубликатов:', test_df.duplicated().sum())\n",
    "print('Кол-во предложений:', len(test_df['offer_depersonalised'].unique()))\n",
    "print('Кол-во товаров:', len(test_df['goods_depersonalised'].unique()))"
   ]
  },
  {
   "cell_type": "code",
   "execution_count": 9,
   "metadata": {},
   "outputs": [
    {
     "name": "stdout",
     "output_type": "stream",
     "text": [
      "ID категорий: [2.0, 3.0, 4.0, 5.0, 6.0, 7.0, 8.0, 9.0, 11.0, 13.0, 14.0, 17.0, 18.0, 19.0, 21.0, 69.0, 81.0, 82.0, 83.0, 2463684633817211.0, nan]\n",
      "Кол-во категорий: 21\n"
     ]
    },
    {
     "data": {
      "text/html": [
       "<div>\n",
       "<style scoped>\n",
       "    .dataframe tbody tr th:only-of-type {\n",
       "        vertical-align: middle;\n",
       "    }\n",
       "\n",
       "    .dataframe tbody tr th {\n",
       "        vertical-align: top;\n",
       "    }\n",
       "\n",
       "    .dataframe thead th {\n",
       "        text-align: right;\n",
       "    }\n",
       "</style>\n",
       "<table border=\"1\" class=\"dataframe\">\n",
       "  <thead>\n",
       "    <tr style=\"text-align: right;\">\n",
       "      <th></th>\n",
       "      <th>count</th>\n",
       "    </tr>\n",
       "    <tr>\n",
       "      <th>goods_category_id</th>\n",
       "      <th></th>\n",
       "    </tr>\n",
       "  </thead>\n",
       "  <tbody>\n",
       "    <tr>\n",
       "      <th>5.000000e+00</th>\n",
       "      <td>66720</td>\n",
       "    </tr>\n",
       "    <tr>\n",
       "      <th>6.000000e+00</th>\n",
       "      <td>45782</td>\n",
       "    </tr>\n",
       "    <tr>\n",
       "      <th>2.000000e+00</th>\n",
       "      <td>36526</td>\n",
       "    </tr>\n",
       "    <tr>\n",
       "      <th>3.000000e+00</th>\n",
       "      <td>28179</td>\n",
       "    </tr>\n",
       "    <tr>\n",
       "      <th>1.400000e+01</th>\n",
       "      <td>22839</td>\n",
       "    </tr>\n",
       "    <tr>\n",
       "      <th>8.000000e+00</th>\n",
       "      <td>22193</td>\n",
       "    </tr>\n",
       "    <tr>\n",
       "      <th>7.000000e+00</th>\n",
       "      <td>21705</td>\n",
       "    </tr>\n",
       "    <tr>\n",
       "      <th>8.300000e+01</th>\n",
       "      <td>20364</td>\n",
       "    </tr>\n",
       "    <tr>\n",
       "      <th>1.100000e+01</th>\n",
       "      <td>15450</td>\n",
       "    </tr>\n",
       "    <tr>\n",
       "      <th>4.000000e+00</th>\n",
       "      <td>14126</td>\n",
       "    </tr>\n",
       "    <tr>\n",
       "      <th>8.200000e+01</th>\n",
       "      <td>14086</td>\n",
       "    </tr>\n",
       "    <tr>\n",
       "      <th>2.100000e+01</th>\n",
       "      <td>9848</td>\n",
       "    </tr>\n",
       "    <tr>\n",
       "      <th>1.900000e+01</th>\n",
       "      <td>9765</td>\n",
       "    </tr>\n",
       "    <tr>\n",
       "      <th>8.100000e+01</th>\n",
       "      <td>8067</td>\n",
       "    </tr>\n",
       "    <tr>\n",
       "      <th>1.700000e+01</th>\n",
       "      <td>8045</td>\n",
       "    </tr>\n",
       "    <tr>\n",
       "      <th>9.000000e+00</th>\n",
       "      <td>7101</td>\n",
       "    </tr>\n",
       "    <tr>\n",
       "      <th>1.300000e+01</th>\n",
       "      <td>5200</td>\n",
       "    </tr>\n",
       "    <tr>\n",
       "      <th>6.900000e+01</th>\n",
       "      <td>4401</td>\n",
       "    </tr>\n",
       "    <tr>\n",
       "      <th>1.800000e+01</th>\n",
       "      <td>2554</td>\n",
       "    </tr>\n",
       "    <tr>\n",
       "      <th>2.463685e+15</th>\n",
       "      <td>753</td>\n",
       "    </tr>\n",
       "  </tbody>\n",
       "</table>\n",
       "</div>"
      ],
      "text/plain": [
       "                   count\n",
       "goods_category_id       \n",
       "5.000000e+00       66720\n",
       "6.000000e+00       45782\n",
       "2.000000e+00       36526\n",
       "3.000000e+00       28179\n",
       "1.400000e+01       22839\n",
       "8.000000e+00       22193\n",
       "7.000000e+00       21705\n",
       "8.300000e+01       20364\n",
       "1.100000e+01       15450\n",
       "4.000000e+00       14126\n",
       "8.200000e+01       14086\n",
       "2.100000e+01        9848\n",
       "1.900000e+01        9765\n",
       "8.100000e+01        8067\n",
       "1.700000e+01        8045\n",
       "9.000000e+00        7101\n",
       "1.300000e+01        5200\n",
       "6.900000e+01        4401\n",
       "1.800000e+01        2554\n",
       "2.463685e+15         753"
      ]
     },
     "metadata": {},
     "output_type": "display_data"
    }
   ],
   "source": [
    "# категории товаров\n",
    "print('ID категорий:', sorted(list(test_df['goods_category_id'].unique())))\n",
    "print('Кол-во категорий:', len(test_df['goods_category_id'].unique()))\n",
    "display(test_df['goods_category_id'].value_counts().to_frame())"
   ]
  },
  {
   "cell_type": "markdown",
   "metadata": {},
   "source": [
    "Промежуточный вывод:\n",
    "\n",
    "- Всего около 363 тыс. пар для мэтча.\n",
    "- Пропуски присутствуют в тех же столбцах: `goods_price` и `goods_category_id`.\n",
    "- Количество категорий товаров - то же количество: 21. И тот же перечень, что и в `train_df`. В том же виде сохранилось распределение товаров по этим категориям.\n"
   ]
  },
  {
   "cell_type": "markdown",
   "metadata": {},
   "source": [
    "### Набор данных **товаров** (goods image & title)"
   ]
  },
  {
   "cell_type": "markdown",
   "metadata": {},
   "source": [
    "Напомню, что датасет содержит в первую очередь id товаров и предложений. А данные, которые могут их охарактеризовать содержатся в отдельных маборах данных формата `.npy`."
   ]
  },
  {
   "cell_type": "code",
   "execution_count": 10,
   "metadata": {},
   "outputs": [
    {
     "name": "stdout",
     "output_type": "stream",
     "text": [
      "Пример содержания массива эмбеддингов:\n",
      " [[ 1.1158133   1.9842914   0.5167014  ... -0.69889563  0.11544477\n",
      "  -3.1679373 ]\n",
      " [ 0.99327075  1.9756604   0.23954017 ...  0.00989665  0.49230903\n",
      "  -3.0051124 ]\n",
      " [-0.36902365 -2.316401    1.3042173  ... -1.6195703   0.7884472\n",
      "  -2.6850224 ]\n",
      " ...\n",
      " [-0.16678151 -0.6597981  -0.9382939  ...  0.3883793  -0.21414155\n",
      "   0.41041985]\n",
      " [-0.16678151 -0.6597981  -0.9382939  ...  0.3883793  -0.21414155\n",
      "   0.41041985]\n",
      " [-0.16678151 -0.6597981  -0.9382939  ...  0.3883793  -0.21414155\n",
      "   0.41041985]]\n",
      "Размер массива: (317707, 256)\n",
      "Макс. значение массива: 9.318618\n",
      "Мин. значение массива: -10.725204\n"
     ]
    },
    {
     "data": {
      "image/png": "[encoded data removed]",
      "text/plain": [
       "<Figure size 640x480 with 1 Axes>"
      ]
     },
     "metadata": {},
     "output_type": "display_data"
    }
   ],
   "source": [
    "# эмбеддинги изображений товаров\n",
    "print('Пример содержания массива эмбеддингов:\\n', goods_image_embed)\n",
    "print('Размер массива:', goods_image_embed.shape)\n",
    "\n",
    "max_value = max(max(row) for row in goods_image_embed)\n",
    "min_value = min(min(row) for row in goods_image_embed)\n",
    "print('Макс. значение массива:', max_value)\n",
    "print('Мин. значение массива:', min_value)\n",
    "\n",
    "plt.boxplot(goods_image_embed.flatten(), vert=False, labels=[''])\n",
    "plt.title('Распределение значений в эмбеддингах')\n",
    "plt.grid(True)\n",
    "plt.show()"
   ]
  },
  {
   "cell_type": "code",
   "execution_count": 11,
   "metadata": {},
   "outputs": [
    {
     "data": {
      "text/plain": [
       "array(['37', '39', '49', ..., '1749527', '1749528', '1749541'],\n",
       "      dtype='<U7')"
      ]
     },
     "metadata": {},
     "output_type": "display_data"
    },
    {
     "name": "stdout",
     "output_type": "stream",
     "text": [
      "Размер массива: (317707,)\n"
     ]
    }
   ],
   "source": [
    "# массив id изображений товаров\n",
    "display(goods_image_items)\n",
    "print('Размер массива:', goods_image_items.shape)"
   ]
  },
  {
   "cell_type": "code",
   "execution_count": 12,
   "metadata": {},
   "outputs": [
    {
     "name": "stdout",
     "output_type": "stream",
     "text": [
      "Пример содержания массива эмбеддингов:\n",
      " [[-0.1097    -0.03256   -0.1995    ...  0.0008154  0.01423   -0.0924   ]\n",
      " [ 0.05478    0.0456     0.086     ...  0.04526   -0.0991     0.0728   ]\n",
      " [ 0.1026    -0.05792   -0.01443   ...  0.02373    0.1375     0.03757  ]\n",
      " ...\n",
      " [-0.1048     0.02689    0.05493   ... -0.02917    0.1359    -0.02756  ]\n",
      " [ 0.03458    0.12256    0.08636   ...  0.02022   -0.01162   -0.11     ]\n",
      " [ 0.09845    0.099     -0.0207    ...  0.03278    0.0746    -0.04443  ]]\n",
      "Размер массива: (1760568, 64)\n",
      "Макс. значение массива: 0.3892\n",
      "Мин. значение массива: -0.4036\n"
     ]
    },
    {
     "data": {
      "image/png": "[encoded data removed]",
      "text/plain": [
       "<Figure size 640x480 with 1 Axes>"
      ]
     },
     "metadata": {},
     "output_type": "display_data"
    }
   ],
   "source": [
    "\n",
    "# эмбеддинги названий и атрибутов товаров\n",
    "print('Пример содержания массива эмбеддингов:\\n', goods_title_embed)\n",
    "print('Размер массива:', goods_title_embed.shape)\n",
    "\n",
    "print('Макс. значение массива:', max(max(row) for row in goods_title_embed))\n",
    "print('Мин. значение массива:', min(min(row) for row in goods_title_embed))\n",
    "\n",
    "plt.boxplot(goods_title_embed.flatten(), vert=False, labels=[''])\n",
    "plt.title('Распределение значений в эмбеддингах')\n",
    "plt.grid(True)\n",
    "plt.show()"
   ]
  },
  {
   "cell_type": "code",
   "execution_count": 13,
   "metadata": {},
   "outputs": [
    {
     "data": {
      "text/plain": [
       "array(['0', '1', '2', ..., '1760565', '1760566', '1760567'], dtype='<U7')"
      ]
     },
     "metadata": {},
     "output_type": "display_data"
    },
    {
     "name": "stdout",
     "output_type": "stream",
     "text": [
      "Размер массива: (1760568,)\n"
     ]
    }
   ],
   "source": [
    "# массив id названий и атрибутов товаров\n",
    "display(goods_title_items)\n",
    "print('Размер массива:', goods_title_items.shape)"
   ]
  },
  {
   "cell_type": "markdown",
   "metadata": {},
   "source": [
    "Промежуточный вывод:\n",
    "\n",
    "- 317 тыс. векторизованных изображений. Длинна вектора: 256\n",
    "- Судя по графику распределения значений, большинство векторов изображений отмасштабированы.\n",
    "- 1,7 млн. векторизованных названий с атрибутами. Длинна вектора: 64\n",
    "- аналогичное нормальное распределение значений наблюдается и у векторов текстовой информации\n",
    "- количество векторов совпадает с количеством items"
   ]
  },
  {
   "cell_type": "markdown",
   "metadata": {},
   "source": [
    "### Набор данных **предложений** (offer image & title)"
   ]
  },
  {
   "cell_type": "markdown",
   "metadata": {},
   "source": [
    "Такой же ознакомительный анализ проведу для предложенных товаров."
   ]
  },
  {
   "cell_type": "code",
   "execution_count": 14,
   "metadata": {},
   "outputs": [
    {
     "name": "stdout",
     "output_type": "stream",
     "text": [
      "Пример содержания массива:\n",
      " [[ 0.31286708  0.9922713   1.2100751  ... -1.7545763  -0.23919716\n",
      "  -1.2425919 ]\n",
      " [ 2.4316337   0.9014603  -0.22259077 ... -1.1001699  -1.1482008\n",
      "  -0.18731171]\n",
      " [ 1.0660228  -0.752132    1.1504172  ...  0.9137148  -0.8000038\n",
      "  -0.83978504]\n",
      " ...\n",
      " [ 0.15886657  1.1132201   1.8915755  ... -1.9614205   0.25737146\n",
      "   2.2726674 ]\n",
      " [-0.07633805  1.1760142   1.7563714  ...  0.8059396  -0.01547651\n",
      "  -1.1802496 ]\n",
      " [ 2.2704175  -0.9822532  -0.21690361 ...  1.8719108  -0.7007608\n",
      "  -1.5808858 ]]\n",
      "Размер массива: (457586, 256)\n",
      "Макс. значение массива: 10.499202\n",
      "Мин. значение массива: -10.556353\n"
     ]
    },
    {
     "data": {
      "image/png": "[encoded data removed]",
      "text/plain": [
       "<Figure size 640x480 with 1 Axes>"
      ]
     },
     "metadata": {},
     "output_type": "display_data"
    }
   ],
   "source": [
    "# эмбеддинги изображений предложений\n",
    "print('Пример содержания массива:\\n', offer_image_embed)\n",
    "print('Размер массива:', offer_image_embed.shape)\n",
    "\n",
    "print('Макс. значение массива:', max(max(row) for row in offer_image_embed))\n",
    "print('Мин. значение массива:', min(min(row) for row in offer_image_embed))\n",
    "\n",
    "plt.boxplot(offer_image_embed.flatten(), vert=False, labels=[''])\n",
    "plt.title('Распределение значений в эмбеддингах')\n",
    "plt.grid(True)\n",
    "plt.show()"
   ]
  },
  {
   "cell_type": "code",
   "execution_count": 15,
   "metadata": {},
   "outputs": [
    {
     "data": {
      "text/plain": [
       "array(['140', '185', '187', ..., '572691', '572699', '572735'],\n",
       "      dtype='<U6')"
      ]
     },
     "metadata": {},
     "output_type": "display_data"
    },
    {
     "name": "stdout",
     "output_type": "stream",
     "text": [
      "Размер массива: (457586,)\n"
     ]
    }
   ],
   "source": [
    "# массив id предложений\n",
    "display(offer_image_items)\n",
    "print('Размер массива:', offer_image_items.shape)"
   ]
  },
  {
   "cell_type": "code",
   "execution_count": 16,
   "metadata": {},
   "outputs": [
    {
     "name": "stdout",
     "output_type": "stream",
     "text": [
      "Пример содержания массива эмбеддингов:\n",
      " [[ 0.1005    0.01372   0.02437  ... -0.0833   -0.07996   0.01242 ]\n",
      " [-0.0225   -0.2683   -0.06757  ... -0.07855  -0.1098   -0.1461  ]\n",
      " [-0.129    -0.0601    0.132    ...  0.0827   -0.01355  -0.1091  ]\n",
      " ...\n",
      " [ 0.03424   0.1057   -0.1775   ...  0.00539  -0.07495  -0.05234 ]\n",
      " [ 0.1133   -0.0424   -0.01152  ...  0.07196  -0.08386  -0.04617 ]\n",
      " [ 0.02773   0.012505 -0.02528  ...  0.04718  -0.0552   -0.04034 ]]\n",
      "Размер массива: (572767, 64)\n",
      "Макс. значение массива: 0.3806\n",
      "Мин. значение массива: -0.3906\n"
     ]
    },
    {
     "data": {
      "image/png": "[encoded data removed]",
      "text/plain": [
       "<Figure size 640x480 with 1 Axes>"
      ]
     },
     "metadata": {},
     "output_type": "display_data"
    }
   ],
   "source": [
    "# эмбеддинги названий и атрибутов предложений\n",
    "print('Пример содержания массива эмбеддингов:\\n', offer_title_embed)\n",
    "print('Размер массива:', offer_title_embed.shape)\n",
    "\n",
    "print('Макс. значение массива:', max(max(row) for row in offer_title_embed))\n",
    "print('Мин. значение массива:', min(min(row) for row in offer_title_embed))\n",
    "\n",
    "plt.boxplot(offer_title_embed.flatten(), vert=False, labels=[''])\n",
    "plt.title('Распределение значений в эмбеддингах')\n",
    "plt.grid(True)\n",
    "plt.show()"
   ]
  },
  {
   "cell_type": "code",
   "execution_count": 17,
   "metadata": {},
   "outputs": [
    {
     "data": {
      "text/plain": [
       "array(['477447', '95232', '117886', ..., '30926', '209577', '239103'],\n",
       "      dtype='<U6')"
      ]
     },
     "metadata": {},
     "output_type": "display_data"
    },
    {
     "name": "stdout",
     "output_type": "stream",
     "text": [
      "Размер массива: (572767,)\n"
     ]
    }
   ],
   "source": [
    "# массив id названий и атрибутов предложений\n",
    "display(offer_title_items)\n",
    "print('Размер массива:', offer_title_items.shape)"
   ]
  },
  {
   "cell_type": "markdown",
   "metadata": {},
   "source": [
    "Промежуточный вывод:\n",
    "\n",
    "- 457 тыс. векторизованных изображений. Длинна вектора такая же: 256\n",
    "- Масштаб значений векторов - аналогичен набору товаров.\n",
    "- 572 тыс. векторизованных названий с атрибутами. Длинна вектора такая же: 64\n",
    "- Масштаб значений векторов - такой же\n",
    "- количество векторов совпадает с количеством items\n",
    "\n",
    "Наборы отличаются количеством объектов, но размеры векторов, а так же их масштаб - совпадают."
   ]
  },
  {
   "cell_type": "markdown",
   "metadata": {},
   "source": []
  }
 ],
 "metadata": {
  "kernelspec": {
   "display_name": "Python 3",
   "language": "python",
   "name": "python3"
  },
  "language_info": {
   "codemirror_mode": {
    "name": "ipython",
    "version": 3
   },
   "file_extension": ".py",
   "mimetype": "text/x-python",
   "name": "python",
   "nbconvert_exporter": "python",
   "pygments_lexer": "ipython3",
   "version": "3.11.7"
  },
  "orig_nbformat": 4
 },
 "nbformat": 4,
 "nbformat_minor": 2
}
